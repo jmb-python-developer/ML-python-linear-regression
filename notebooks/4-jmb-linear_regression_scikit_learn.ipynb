{
 "cells": [
  {
   "cell_type": "markdown",
   "metadata": {},
   "source": [
    "## Linear Regression using Scikit-Learn"
   ]
  },
  {
   "cell_type": "markdown",
   "metadata": {},
   "source": [
    "This is an open-source, commercially usable machine learning toolki: [scikit-learn](https://scikit-learn.org/stable/index.html). This toolkit contains implementations of many of the algorithms seen in other notebooks of this project"
   ]
  },
  {
   "cell_type": "code",
   "execution_count": 12,
   "metadata": {},
   "outputs": [],
   "source": [
    "import os\n",
    "import numpy as np\n",
    "import matplotlib as plt\n",
    "from sklearn.linear_model import SGDRegressor\n",
    "from sklearn.preprocessing import StandardScaler"
   ]
  },
  {
   "cell_type": "markdown",
   "metadata": {},
   "source": [
    "The following is a helper function to load the house data features and prices dataset"
   ]
  },
  {
   "cell_type": "code",
   "execution_count": 15,
   "metadata": {},
   "outputs": [],
   "source": [
    "def load_house_dataset():\n",
    "    print(os.getcwd)\n",
    "    '''\n",
    "    Loads both features and targer values from the raw dataset, as specified in the path below.\n",
    "    Example of data in the file:\n",
    "\n",
    "    1.244000000000000000e+03,3.000000000000000000e+00,1.000000000000000000e+00,6.400000000000000000e+01,3.000000000000000000e+02\n",
    "    1.947000000000000000e+03,3.000000000000000000e+00,2.000000000000000000e+00,1.700000000000000000e+01,5.098000000000000114e+02\n",
    "\n",
    "        Returns: X matrix and y vector, numpy structures.\n",
    "\n",
    "    '''\n",
    "    data = np.loadtxt(\"./data/raw/houses_features_prices.txt\", delimiter=',', skiprows=1)\n",
    "    \"\"\"\n",
    "    This line selects all rows (indicated by the : before the first comma) and all columns except the last one (indicated by :-1). \n",
    "    The :-1 means \"from the beginning to the second last element\" (or \"from the beginning to the last element minus one\"). \n",
    "    \n",
    "    This creates a new numpy array X containing all the features (i.e., all columns except the last one).\n",
    "    \"\"\"\n",
    "    X = data[:, :4]\n",
    "    \"\"\"\n",
    "    This line selects all rows (indicated by the : before the comma) and only the last column (indicated by -1). \n",
    "    In numpy, -1 refers to the last index. This creates a new numpy array y containing only the target variable (i.e., the last column).\n",
    "    \"\"\"\n",
    "    y = data[:, 4]\n",
    "    return X, y "
   ]
  },
  {
   "cell_type": "markdown",
   "metadata": {},
   "source": [
    "# Gradient Descent in Scikit-Learn\n",
    "Scikit-learn has a gradient descent regression model [sklearn.linear_model.SGDRegressor](https://scikit-learn.org/stable/modules/generated/sklearn.linear_model.SGDRegressor.html#examples-using-sklearn-linear-model-sgdregressor).  Like previous implementations of gradient descent in this project, the model performs best with normalized inputs. [sklearn.preprocessing.StandardScaler](https://scikit-learn.org/stable/modules/generated/sklearn.preprocessing.StandardScaler.html#sklearn.preprocessing.StandardScaler) will perform z-score normalization . In the library it is referred to as 'standard score'."
   ]
  },
  {
   "cell_type": "markdown",
   "metadata": {},
   "source": [
    "Below code loads the dataset"
   ]
  },
  {
   "cell_type": "code",
   "execution_count": 16,
   "metadata": {},
   "outputs": [
    {
     "name": "stdout",
     "output_type": "stream",
     "text": [
      "/Users/JuanMBruno/Documents/Projects/coursera_linear_regression/two_parameters_linear_regression/linear_regression_examples/notebooks\n"
     ]
    }
   ],
   "source": [
    "data = load_house_dataset()"
   ]
  },
  {
   "cell_type": "code",
   "execution_count": null,
   "metadata": {},
   "outputs": [],
   "source": []
  }
 ],
 "metadata": {
  "kernelspec": {
   "display_name": "Python 3 (ipykernel)",
   "language": "python",
   "name": "python3"
  },
  "language_info": {
   "codemirror_mode": {
    "name": "ipython",
    "version": 3
   },
   "file_extension": ".py",
   "mimetype": "text/x-python",
   "name": "python",
   "nbconvert_exporter": "python",
   "pygments_lexer": "ipython3",
   "version": "3.10.13"
  }
 },
 "nbformat": 4,
 "nbformat_minor": 2
}
